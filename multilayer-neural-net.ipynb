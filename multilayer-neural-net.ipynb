{
 "cells": [
  {
   "cell_type": "code",
   "execution_count": 3,
   "metadata": {},
   "outputs": [],
   "source": [
    "import numpy as np\n",
    "import matplotlib.pyplot as plt\n",
    "import torch\n",
    "from torchvision import datasets, transforms\n",
    "from torch.utils.data import DataLoader\n",
    "from util import compute_batch_accuracy"
   ]
  },
  {
   "cell_type": "markdown",
   "metadata": {},
   "source": [
    "# Multilayer Neural Network"
   ]
  },
  {
   "cell_type": "markdown",
   "metadata": {},
   "source": [
    "## Settings and Data Loading"
   ]
  },
  {
   "cell_type": "code",
   "execution_count": 4,
   "metadata": {},
   "outputs": [],
   "source": [
    "# Hyperparameters\n",
    "batch_size = 256\n",
    "learning_rate = 0.1\n",
    "num_epochs = 10\n",
    "random_seed = 0\n",
    "dropout = False\n",
    "batchnorm = True\n",
    "\n",
    "# Architecture\n",
    "num_features = 28 * 28\n",
    "num_classes = 10\n",
    "num_hidden = [128, 256]\n",
    "\n",
    "train = datasets.MNIST(root='data',\n",
    "                        train=True, \n",
    "                        transform=transforms.ToTensor(),  \n",
    "                        download=True)\n",
    "\n",
    "test = datasets.MNIST(root='data',\n",
    "                        train=False, \n",
    "                        transform=transforms.ToTensor())\n",
    "\n",
    "train_loader = DataLoader(dataset=train,\n",
    "                          batch_size=batch_size, \n",
    "                          shuffle=True)\n",
    "\n",
    "test_loader = DataLoader(dataset=test, \n",
    "                         batch_size=batch_size, \n",
    "                         shuffle=False)"
   ]
  },
  {
   "cell_type": "markdown",
   "metadata": {},
   "source": [
    "## Model Definition and Training"
   ]
  },
  {
   "cell_type": "code",
   "execution_count": 5,
   "metadata": {},
   "outputs": [],
   "source": [
    "class MultilayerNet(torch.nn.Module):\n",
    "\n",
    "    def __init__(self, num_features, num_classes, num_hidden, \n",
    "                dropout=False, batchnorm=False):\n",
    "        super(MultilayerNet, self).__init__()\n",
    "        self.linear_1 = torch.nn.Linear(num_features, num_hidden[0])\n",
    "        self.linear_1_bn = torch.nn.BatchNorm1d(num_hidden[0])\n",
    "\n",
    "        self.linear_2 = torch.nn.Linear(num_hidden[0], num_hidden[1])\n",
    "        self.linear_2_bn = torch.nn.BatchNorm1d(num_hidden[1])\n",
    "\n",
    "        self.linear_out = torch.nn.Linear(num_hidden[1], num_classes)\n",
    "\n",
    "        self.dropout = dropout\n",
    "        self.batchnorm = batchnorm\n",
    "\n",
    "    def forward(self, x):\n",
    "        ## flatten\n",
    "        x = x.view(-1, num_features)\n",
    "        ## 1st hidden layer \n",
    "        out = torch.relu(self.linear_1(x))\n",
    "        if self.batchnorm:\n",
    "            out = self.linear_1_bn(out)\n",
    "        out = torch.relu(out)\n",
    "        if self.dropout:\n",
    "            out = torch.nn.functional.dropout(out)\n",
    "\n",
    "        ## 2nd hidden layer\n",
    "        out = self.linear_2(out)\n",
    "        if self.batchnorm:\n",
    "            out = self.linear_2_bn(out)\n",
    "        out = torch.relu(out)    \n",
    "        if self.dropout:\n",
    "            out = torch.nn.functional.dropout(out)\n",
    "        \n",
    "        ## Output layer\n",
    "        logits = self.linear_out(out)\n",
    "        return logits"
   ]
  },
  {
   "cell_type": "code",
   "execution_count": 6,
   "metadata": {},
   "outputs": [
    {
     "name": "stdout",
     "output_type": "stream",
     "text": [
      "Epoch: 001/010 | Batch 000/256 | Cost: 2.3611\n",
      "Epoch: 001/010 | Batch 050/256 | Cost: 0.3678\n",
      "Epoch: 001/010 | Batch 100/256 | Cost: 0.2125\n",
      "Epoch: 001/010 | Batch 150/256 | Cost: 0.2408\n",
      "Epoch: 001/010 | Batch 200/256 | Cost: 0.1173\n",
      "Epoch: 001/010 training accuracy: 96.62%\n",
      "Epoch: 002/010 | Batch 000/256 | Cost: 0.1611\n",
      "Epoch: 002/010 | Batch 050/256 | Cost: 0.0838\n",
      "Epoch: 002/010 | Batch 100/256 | Cost: 0.1095\n",
      "Epoch: 002/010 | Batch 150/256 | Cost: 0.0852\n",
      "Epoch: 002/010 | Batch 200/256 | Cost: 0.1425\n",
      "Epoch: 002/010 training accuracy: 97.93%\n",
      "Epoch: 003/010 | Batch 000/256 | Cost: 0.0820\n",
      "Epoch: 003/010 | Batch 050/256 | Cost: 0.0997\n",
      "Epoch: 003/010 | Batch 100/256 | Cost: 0.0585\n",
      "Epoch: 003/010 | Batch 150/256 | Cost: 0.0650\n",
      "Epoch: 003/010 | Batch 200/256 | Cost: 0.0851\n",
      "Epoch: 003/010 training accuracy: 98.47%\n",
      "Epoch: 004/010 | Batch 000/256 | Cost: 0.0399\n",
      "Epoch: 004/010 | Batch 050/256 | Cost: 0.0400\n",
      "Epoch: 004/010 | Batch 100/256 | Cost: 0.0427\n",
      "Epoch: 004/010 | Batch 150/256 | Cost: 0.0861\n",
      "Epoch: 004/010 | Batch 200/256 | Cost: 0.0470\n",
      "Epoch: 004/010 training accuracy: 98.86%\n",
      "Epoch: 005/010 | Batch 000/256 | Cost: 0.0595\n",
      "Epoch: 005/010 | Batch 050/256 | Cost: 0.0442\n",
      "Epoch: 005/010 | Batch 100/256 | Cost: 0.0274\n",
      "Epoch: 005/010 | Batch 150/256 | Cost: 0.0419\n",
      "Epoch: 005/010 | Batch 200/256 | Cost: 0.0522\n",
      "Epoch: 005/010 training accuracy: 99.26%\n",
      "Epoch: 006/010 | Batch 000/256 | Cost: 0.0257\n",
      "Epoch: 006/010 | Batch 050/256 | Cost: 0.0249\n",
      "Epoch: 006/010 | Batch 100/256 | Cost: 0.0313\n",
      "Epoch: 006/010 | Batch 150/256 | Cost: 0.0298\n",
      "Epoch: 006/010 | Batch 200/256 | Cost: 0.0315\n",
      "Epoch: 006/010 training accuracy: 99.32%\n",
      "Epoch: 007/010 | Batch 000/256 | Cost: 0.0249\n",
      "Epoch: 007/010 | Batch 050/256 | Cost: 0.0301\n",
      "Epoch: 007/010 | Batch 100/256 | Cost: 0.0454\n",
      "Epoch: 007/010 | Batch 150/256 | Cost: 0.0358\n",
      "Epoch: 007/010 | Batch 200/256 | Cost: 0.0248\n",
      "Epoch: 007/010 training accuracy: 99.59%\n",
      "Epoch: 008/010 | Batch 000/256 | Cost: 0.0135\n",
      "Epoch: 008/010 | Batch 050/256 | Cost: 0.0146\n",
      "Epoch: 008/010 | Batch 100/256 | Cost: 0.0233\n",
      "Epoch: 008/010 | Batch 150/256 | Cost: 0.0352\n",
      "Epoch: 008/010 | Batch 200/256 | Cost: 0.0154\n",
      "Epoch: 008/010 training accuracy: 99.67%\n",
      "Epoch: 009/010 | Batch 000/256 | Cost: 0.0063\n",
      "Epoch: 009/010 | Batch 050/256 | Cost: 0.0115\n",
      "Epoch: 009/010 | Batch 100/256 | Cost: 0.0272\n",
      "Epoch: 009/010 | Batch 150/256 | Cost: 0.0168\n",
      "Epoch: 009/010 | Batch 200/256 | Cost: 0.0088\n",
      "Epoch: 009/010 training accuracy: 99.76%\n",
      "Epoch: 010/010 | Batch 000/256 | Cost: 0.0230\n",
      "Epoch: 010/010 | Batch 050/256 | Cost: 0.0138\n",
      "Epoch: 010/010 | Batch 100/256 | Cost: 0.0096\n",
      "Epoch: 010/010 | Batch 150/256 | Cost: 0.0090\n",
      "Epoch: 010/010 | Batch 200/256 | Cost: 0.0121\n",
      "Epoch: 010/010 training accuracy: 99.81%\n"
     ]
    }
   ],
   "source": [
    "torch.manual_seed(random_seed)\n",
    "model = MultilayerNet(\n",
    "    num_features, num_classes, num_hidden, \n",
    "    dropout=dropout, \n",
    "    batchnorm = batchnorm\n",
    ")\n",
    "optimizer = torch.optim.SGD(model.parameters(), lr=learning_rate)\n",
    "cost_fn = torch.nn.CrossEntropyLoss()\n",
    "\n",
    "train_acc = []\n",
    "test_acc = []\n",
    "\n",
    "for epoch in range(num_epochs):\n",
    "    for batch_idx, (X_train, y_train) in enumerate(train_loader):\n",
    "\n",
    "        # Feed forward\n",
    "        logits = model(X_train)\n",
    "\n",
    "        # Compute the cost\n",
    "        cost = cost_fn(logits, y_train)\n",
    "        optimizer.zero_grad()\n",
    "        cost.backward()\n",
    "        \n",
    "        # Update the weights\n",
    "        optimizer.step()\n",
    "        \n",
    "        # Logging\n",
    "        if batch_idx % 50 == 0:\n",
    "            print('Epoch: %03d/%03d | Batch %03d/%03d | Cost: %.4f' \n",
    "                   %(epoch + 1, num_epochs, batch_idx, batch_size, cost))\n",
    "\n",
    "    acc = compute_batch_accuracy(model, train_loader)\n",
    "    print('Epoch: %03d/%03d training accuracy: %.2f%%' % (\n",
    "        epoch + 1, num_epochs, acc\n",
    "    ))\n",
    "    train_acc.append(acc)\n",
    "    test_acc.append(compute_batch_accuracy(model, test_loader))"
   ]
  },
  {
   "cell_type": "code",
   "execution_count": 8,
   "metadata": {},
   "outputs": [
    {
     "name": "stdout",
     "output_type": "stream",
     "text": [
      "Test accuracy: 97.50%\n"
     ]
    }
   ],
   "source": [
    "print('Test accuracy: %.2f%%' % (compute_batch_accuracy(model, test_loader)))"
   ]
  },
  {
   "cell_type": "code",
   "execution_count": 9,
   "metadata": {},
   "outputs": [
    {
     "data": {
      "image/png": "[encoded data removed]",
      "text/plain": [
       "<Figure size 432x288 with 1 Axes>"
      ]
     },
     "metadata": {
      "needs_background": "light"
     },
     "output_type": "display_data"
    }
   ],
   "source": [
    "plt.plot(train_acc, label=\"train\")\n",
    "plt.plot(test_acc, label=\"test\")\n",
    "plt.legend()\n",
    "plt.show()"
   ]
  }
 ],
 "metadata": {
  "interpreter": {
   "hash": "126a21cd5689fd8d9034299aed6b6694e84badb31a82d41620debb45eeeb4436"
  },
  "kernelspec": {
   "display_name": "Python 3.8.0 64-bit ('deepl': conda)",
   "language": "python",
   "name": "python3"
  },
  "language_info": {
   "codemirror_mode": {
    "name": "ipython",
    "version": 3
   },
   "file_extension": ".py",
   "mimetype": "text/x-python",
   "name": "python",
   "nbconvert_exporter": "python",
   "pygments_lexer": "ipython3",
   "version": "3.8.0"
  },
  "orig_nbformat": 4
 },
 "nbformat": 4,
 "nbformat_minor": 2
}
