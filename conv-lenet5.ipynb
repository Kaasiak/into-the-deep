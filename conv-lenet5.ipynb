{
 "cells": [
  {
   "cell_type": "code",
   "execution_count": 19,
   "metadata": {},
   "outputs": [],
   "source": [
    "import numpy as np\n",
    "import matplotlib.pyplot as plt\n",
    "import torch\n",
    "import torchvision\n",
    "from importlib import reload\n",
    "import util \n",
    "reload(util)\n",
    "from util import get_MNIST_loaders, train_model, plot_accuracy, plot_training_loss"
   ]
  },
  {
   "cell_type": "markdown",
   "metadata": {},
   "source": [
    "# Convolutional Neural Networks\n",
    "## LeNet-5\n",
    "\n",
    "![LeNet-5](img/LeNet5-architecture.png)\n",
    "*Source: Original paper available at: http://yann.lecun.com/exdb/publis/pdf/lecun-01a.pdf*"
   ]
  },
  {
   "cell_type": "code",
   "execution_count": 2,
   "metadata": {},
   "outputs": [],
   "source": [
    "class LeNet5(torch.nn.Module):\n",
    "    def __init__(self, num_classes, greyscale):\n",
    "        super(LeNet5, self).__init__()\n",
    "        self.greyscale = greyscale\n",
    "        if greyscale:\n",
    "            in_channels = 1\n",
    "        else:\n",
    "            in_channels = 3\n",
    "\n",
    "        self.features = torch.nn.Sequential(\n",
    "            torch.nn.Conv2d(in_channels, 6, kernel_size=5),\n",
    "            torch.nn.Tanh(),\n",
    "            torch.nn.MaxPool2d(kernel_size=2),\n",
    "            torch.nn.Conv2d(6, 16, kernel_size=5),\n",
    "            torch.nn.Tanh(),\n",
    "            torch.nn.MaxPool2d(kernel_size=2)\n",
    "        )\n",
    "\n",
    "        self.classifier = torch.nn.Sequential(\n",
    "            torch.nn.Linear(16*5*5, 120),\n",
    "            torch.nn.Tanh(),\n",
    "            torch.nn.Linear(120, 84),\n",
    "            torch.nn.Tanh(),\n",
    "            torch.nn.Linear(84, num_classes)\n",
    "        )\n",
    "\n",
    "    def forward(self, x):\n",
    "        features = self.features(x)\n",
    "        features = torch.flatten(features, 1)\n",
    "        logits = self.classifier(features)\n",
    "        return logits"
   ]
  },
  {
   "cell_type": "markdown",
   "metadata": {},
   "source": [
    "## LeNet5 on MNIST"
   ]
  },
  {
   "cell_type": "code",
   "execution_count": 3,
   "metadata": {},
   "outputs": [],
   "source": [
    "# Architecture\n",
    "num_classes = 10\n",
    "\n",
    "# Hyperparameters\n",
    "learning_rate = 0.1\n",
    "batch_size = 256\n",
    "num_epochs = 15\n",
    "random_seed = 0\n",
    "\n",
    "data_transform = torchvision.transforms.Compose([\n",
    "    torchvision.transforms.Resize((32, 32)),\n",
    "    torchvision.transforms.ToTensor(),\n",
    "    torchvision.transforms.Normalize((0.5,), (0.5,))\n",
    "])\n",
    "\n",
    "train_loader, valid_loader, test_loader = get_MNIST_loaders(\n",
    "    batch_size=batch_size,\n",
    "    transform=data_transform\n",
    ")"
   ]
  },
  {
   "cell_type": "code",
   "execution_count": 4,
   "metadata": {},
   "outputs": [
    {
     "name": "stdout",
     "output_type": "stream",
     "text": [
      "Epoch: 001/015 | Batch 000/256 | Cost: 2.3000\n",
      "Epoch: 001/015 | Batch 050/256 | Cost: 1.2159\n",
      "Epoch: 001/015 | Batch 100/256 | Cost: 0.4384\n",
      "Epoch: 001/015 | Batch 150/256 | Cost: 0.3543\n",
      "Time elapsed: 0.28 min\n",
      "Epoch: 001/015 Train: 92.16% | Validation: 92.47%\n",
      "Epoch: 002/015 | Batch 000/256 | Cost: 0.3002\n",
      "Epoch: 002/015 | Batch 050/256 | Cost: 0.2324\n",
      "Epoch: 002/015 | Batch 100/256 | Cost: 0.2159\n",
      "Epoch: 002/015 | Batch 150/256 | Cost: 0.1976\n",
      "Time elapsed: 0.76 min\n",
      "Epoch: 002/015 Train: 95.75% | Validation: 95.95%\n",
      "Epoch: 003/015 | Batch 000/256 | Cost: 0.1251\n",
      "Epoch: 003/015 | Batch 050/256 | Cost: 0.1198\n",
      "Epoch: 003/015 | Batch 100/256 | Cost: 0.1095\n",
      "Epoch: 003/015 | Batch 150/256 | Cost: 0.0676\n",
      "Time elapsed: 1.20 min\n",
      "Epoch: 003/015 Train: 96.90% | Validation: 96.84%\n",
      "Epoch: 004/015 | Batch 000/256 | Cost: 0.1567\n",
      "Epoch: 004/015 | Batch 050/256 | Cost: 0.1172\n",
      "Epoch: 004/015 | Batch 100/256 | Cost: 0.0634\n",
      "Epoch: 004/015 | Batch 150/256 | Cost: 0.1271\n",
      "Time elapsed: 1.66 min\n",
      "Epoch: 004/015 Train: 97.63% | Validation: 97.42%\n",
      "Epoch: 005/015 | Batch 000/256 | Cost: 0.0571\n",
      "Epoch: 005/015 | Batch 050/256 | Cost: 0.0497\n",
      "Epoch: 005/015 | Batch 100/256 | Cost: 0.0549\n",
      "Epoch: 005/015 | Batch 150/256 | Cost: 0.0945\n",
      "Time elapsed: 2.10 min\n",
      "Epoch: 005/015 Train: 97.66% | Validation: 97.20%\n",
      "Epoch: 006/015 | Batch 000/256 | Cost: 0.0771\n",
      "Epoch: 006/015 | Batch 050/256 | Cost: 0.0527\n",
      "Epoch: 006/015 | Batch 100/256 | Cost: 0.0766\n",
      "Epoch: 006/015 | Batch 150/256 | Cost: 0.0593\n",
      "Time elapsed: 2.53 min\n",
      "Epoch: 006/015 Train: 98.22% | Validation: 97.86%\n",
      "Epoch: 007/015 | Batch 000/256 | Cost: 0.1164\n",
      "Epoch: 007/015 | Batch 050/256 | Cost: 0.0400\n",
      "Epoch: 007/015 | Batch 100/256 | Cost: 0.0736\n",
      "Epoch: 007/015 | Batch 150/256 | Cost: 0.0636\n",
      "Time elapsed: 3.00 min\n",
      "Epoch: 007/015 Train: 98.24% | Validation: 97.90%\n",
      "Epoch: 008/015 | Batch 000/256 | Cost: 0.0781\n",
      "Epoch: 008/015 | Batch 050/256 | Cost: 0.0763\n",
      "Epoch: 008/015 | Batch 100/256 | Cost: 0.0220\n",
      "Epoch: 008/015 | Batch 150/256 | Cost: 0.0300\n",
      "Time elapsed: 3.52 min\n",
      "Epoch: 008/015 Train: 98.62% | Validation: 98.17%\n",
      "Epoch: 009/015 | Batch 000/256 | Cost: 0.0308\n",
      "Epoch: 009/015 | Batch 050/256 | Cost: 0.0322\n",
      "Epoch: 009/015 | Batch 100/256 | Cost: 0.0649\n",
      "Epoch: 009/015 | Batch 150/256 | Cost: 0.0389\n",
      "Time elapsed: 3.96 min\n",
      "Epoch: 009/015 Train: 98.70% | Validation: 98.11%\n",
      "Epoch: 010/015 | Batch 000/256 | Cost: 0.0537\n",
      "Epoch: 010/015 | Batch 050/256 | Cost: 0.0654\n",
      "Epoch: 010/015 | Batch 100/256 | Cost: 0.0432\n",
      "Epoch: 010/015 | Batch 150/256 | Cost: 0.0394\n",
      "Time elapsed: 4.39 min\n",
      "Epoch: 010/015 Train: 98.85% | Validation: 98.25%\n",
      "Epoch: 011/015 | Batch 000/256 | Cost: 0.0264\n",
      "Epoch: 011/015 | Batch 050/256 | Cost: 0.0269\n",
      "Epoch: 011/015 | Batch 100/256 | Cost: 0.0392\n",
      "Epoch: 011/015 | Batch 150/256 | Cost: 0.0420\n",
      "Time elapsed: 4.81 min\n",
      "Epoch: 011/015 Train: 98.89% | Validation: 98.33%\n",
      "Epoch: 012/015 | Batch 000/256 | Cost: 0.0259\n",
      "Epoch: 012/015 | Batch 050/256 | Cost: 0.0149\n",
      "Epoch: 012/015 | Batch 100/256 | Cost: 0.0630\n",
      "Epoch: 012/015 | Batch 150/256 | Cost: 0.0563\n",
      "Time elapsed: 5.24 min\n",
      "Epoch: 012/015 Train: 99.01% | Validation: 98.33%\n",
      "Epoch: 013/015 | Batch 000/256 | Cost: 0.0252\n",
      "Epoch: 013/015 | Batch 050/256 | Cost: 0.0563\n",
      "Epoch: 013/015 | Batch 100/256 | Cost: 0.0424\n",
      "Epoch: 013/015 | Batch 150/256 | Cost: 0.0210\n",
      "Time elapsed: 5.67 min\n",
      "Epoch: 013/015 Train: 99.11% | Validation: 98.35%\n",
      "Epoch: 014/015 | Batch 000/256 | Cost: 0.0197\n",
      "Epoch: 014/015 | Batch 050/256 | Cost: 0.0471\n",
      "Epoch: 014/015 | Batch 100/256 | Cost: 0.0587\n",
      "Epoch: 014/015 | Batch 150/256 | Cost: 0.0344\n",
      "Time elapsed: 6.10 min\n",
      "Epoch: 014/015 Train: 99.04% | Validation: 98.34%\n",
      "Epoch: 015/015 | Batch 000/256 | Cost: 0.0535\n",
      "Epoch: 015/015 | Batch 050/256 | Cost: 0.0166\n",
      "Epoch: 015/015 | Batch 100/256 | Cost: 0.0236\n",
      "Epoch: 015/015 | Batch 150/256 | Cost: 0.0166\n",
      "Time elapsed: 6.53 min\n",
      "Epoch: 015/015 Train: 99.17% | Validation: 98.43%\n",
      "-------------------------------\n",
      "Total Training Time: 6.71 min\n",
      "Test accuracy 98.86%\n"
     ]
    }
   ],
   "source": [
    "import time\n",
    "torch.manual_seed(random_seed)\n",
    "model = LeNet5(num_classes, greyscale=True)\n",
    "\n",
    "optimizer = torch.optim.SGD(model.parameters(), lr=learning_rate)\n",
    "scheduler =torch.optim.lr_scheduler.ReduceLROnPlateau(\n",
    "    optimizer, \n",
    "    factor=0.1, \n",
    "    mode='max', \n",
    "    verbose=True\n",
    ")\n",
    "loss_fn = torch.nn.CrossEntropyLoss()\n",
    "\n",
    "minibatch_loss, train_acc, valid_acc = train_model(\n",
    "    model=model, \n",
    "    optimizer=optimizer, \n",
    "    scheduler=scheduler, \n",
    "    loss_fn=loss_fn, \n",
    "    train_loader=train_loader, \n",
    "    valid_loader=valid_loader, \n",
    "    test_loader=test_loader, \n",
    "    num_epochs=num_epochs, \n",
    "    batch_size=batch_size\n",
    ")"
   ]
  },
  {
   "cell_type": "code",
   "execution_count": 20,
   "metadata": {},
   "outputs": [
    {
     "data": {
      "image/png": "[encoded data removed]",
      "text/plain": [
       "<Figure size 432x288 with 1 Axes>"
      ]
     },
     "metadata": {
      "needs_background": "light"
     },
     "output_type": "display_data"
    }
   ],
   "source": [
    "plot_accuracy(train_acc, valid_acc)"
   ]
  },
  {
   "cell_type": "code",
   "execution_count": 21,
   "metadata": {},
   "outputs": [
    {
     "data": {
      "image/png": "[encoded data removed]",
      "text/plain": [
       "<Figure size 432x288 with 1 Axes>"
      ]
     },
     "metadata": {
      "needs_background": "light"
     },
     "output_type": "display_data"
    }
   ],
   "source": [
    "plot_training_loss(minibatch_loss)"
   ]
  }
 ],
 "metadata": {
  "interpreter": {
   "hash": "126a21cd5689fd8d9034299aed6b6694e84badb31a82d41620debb45eeeb4436"
  },
  "kernelspec": {
   "display_name": "Python 3.8.0 64-bit ('deepl': conda)",
   "language": "python",
   "name": "python3"
  },
  "language_info": {
   "codemirror_mode": {
    "name": "ipython",
    "version": 3
   },
   "file_extension": ".py",
   "mimetype": "text/x-python",
   "name": "python",
   "nbconvert_exporter": "python",
   "pygments_lexer": "ipython3",
   "version": "3.8.0"
  },
  "orig_nbformat": 4
 },
 "nbformat": 4,
 "nbformat_minor": 2
}
