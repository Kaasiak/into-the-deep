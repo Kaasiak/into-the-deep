{
 "cells": [
  {
   "cell_type": "code",
   "execution_count": 10,
   "metadata": {},
   "outputs": [],
   "source": [
    "import numpy as np\n",
    "import matplotlib.pyplot as plt\n",
    "import torch\n",
    "import torchvision\n",
    "from torch.utils.data import DataLoader\n",
    "from util import compute_batch_accuracy"
   ]
  },
  {
   "cell_type": "markdown",
   "metadata": {},
   "source": [
    "# Convolutional Neural Networks\n",
    "## LeNet-5\n",
    "\n",
    "![LeNet-5](img/LeNet5-architecture.png)\n",
    "*Source: Original paper available at: http://yann.lecun.com/exdb/publis/pdf/lecun-01a.pdf*"
   ]
  },
  {
   "cell_type": "code",
   "execution_count": 11,
   "metadata": {},
   "outputs": [],
   "source": [
    "class LeNet5(torch.nn.Module):\n",
    "    def __init__(self, num_classes, greyscale):\n",
    "        super(LeNet5, self).__init__()\n",
    "        self.greyscale = greyscale\n",
    "        if greyscale:\n",
    "            in_channels = 1\n",
    "        else:\n",
    "            in_channels = 3\n",
    "\n",
    "        self.features = torch.nn.Sequential(\n",
    "            torch.nn.Conv2d(in_channels, 6, kernel_size=5),\n",
    "            torch.nn.Tanh(),\n",
    "            torch.nn.MaxPool2d(kernel_size=2),\n",
    "            torch.nn.Conv2d(6, 16, kernel_size=5),\n",
    "            torch.nn.Tanh(),\n",
    "            torch.nn.MaxPool2d(kernel_size=2)\n",
    "        )\n",
    "\n",
    "        self.classifier = torch.nn.Sequential(\n",
    "            torch.nn.Linear(16*5*5, 120),\n",
    "            torch.nn.Tanh(),\n",
    "            torch.nn.Linear(120, 84),\n",
    "            torch.nn.Tanh(),\n",
    "            torch.nn.Linear(84, num_classes)\n",
    "        )\n",
    "\n",
    "    def forward(self, x):\n",
    "        features = self.features(x)\n",
    "        features = torch.flatten(features, 1)\n",
    "        logits = self.classifier(features)\n",
    "        probas = torch.softmax(logits, dim=1)\n",
    "        return logits, probas"
   ]
  },
  {
   "cell_type": "markdown",
   "metadata": {},
   "source": [
    "## LeNet5 on MNIST"
   ]
  },
  {
   "cell_type": "code",
   "execution_count": 23,
   "metadata": {},
   "outputs": [],
   "source": [
    "# Architecture\n",
    "num_classes = 10\n",
    "\n",
    "# Hyperparameters\n",
    "learning_rate = 0.1\n",
    "batch_size = 256\n",
    "num_epochs = 2\n",
    "random_seed = 0\n",
    "\n",
    "# Data loaders\n",
    "data_transform = torchvision.transforms.Compose([\n",
    "    torchvision.transforms.Resize((32, 32)),\n",
    "    torchvision.transforms.ToTensor(),\n",
    "    torchvision.transforms.Normalize((0.5,), (0.5,))\n",
    "])\n",
    "\n",
    "train = torchvision.datasets.MNIST(\n",
    "    root='data',\n",
    "    transform=data_transform, \n",
    "    download=True\n",
    ")\n",
    "\n",
    "train, valid = torch.utils.data.random_split(train, [50000, 10000])\n",
    "\n",
    "test = torchvision.datasets.MNIST(\n",
    "    root='data', \n",
    "    transform=data_transform, \n",
    "    train=False\n",
    ")\n",
    "\n",
    "train_loader = DataLoader(\n",
    "    train,\n",
    "    batch_size=batch_size,\n",
    "    shuffle=True\n",
    ")\n",
    "\n",
    "valid_loader = DataLoader(\n",
    "    valid,\n",
    "    batch_size=batch_size,\n",
    "    shuffle=True\n",
    ")\n",
    "\n",
    "test_loader = DataLoader(\n",
    "    test,\n",
    "    batch_size=batch_size,\n",
    "    shuffle=False\n",
    ")"
   ]
  },
  {
   "cell_type": "code",
   "execution_count": 24,
   "metadata": {},
   "outputs": [
    {
     "name": "stdout",
     "output_type": "stream",
     "text": [
      "Epoch: 001/002 | Batch 000/256 | Cost: 2.3083\n",
      "Epoch: 001/002 | Batch 050/256 | Cost: 1.1761\n",
      "Epoch: 001/002 | Batch 100/256 | Cost: 0.5426\n",
      "Epoch: 001/002 | Batch 150/256 | Cost: 0.3229\n",
      "Time elapsed: 0.27 min\n",
      "Epoch: 001/002 Train: 92.45% | Validation: 91.85%\n",
      "Epoch: 002/002 | Batch 000/256 | Cost: 0.2498\n",
      "Epoch: 002/002 | Batch 050/256 | Cost: 0.1783\n",
      "Epoch: 002/002 | Batch 100/256 | Cost: 0.2096\n",
      "Epoch: 002/002 | Batch 150/256 | Cost: 0.2210\n",
      "Time elapsed: 0.71 min\n",
      "Epoch: 002/002 Train: 95.59% | Validation: 95.02%\n",
      "-------------------------------\n",
      "Total Training Time: 0.90 min\n",
      "Test accuracy 95.79%\n"
     ]
    }
   ],
   "source": [
    "import time\n",
    "torch.manual_seed(random_seed)\n",
    "model = LeNet5(num_classes, greyscale=True)\n",
    "\n",
    "optimizer = torch.optim.SGD(model.parameters(), lr=learning_rate)\n",
    "scheduler =torch.optim.lr_scheduler.ReduceLROnPlateau(\n",
    "    optimizer, \n",
    "    factor=0.1, \n",
    "    mode='max', \n",
    "    verbose=True\n",
    ")\n",
    "loss_fn = torch.nn.CrossEntropyLoss()\n",
    "\n",
    "train_acc_ls, valid_acc_ls, mini_batch_loss_ls = [], [], []\n",
    "\n",
    "start_time = time.time()\n",
    "for epoch in range(num_epochs):\n",
    "    for batch_idx, (features, target) in enumerate(train_loader):\n",
    "\n",
    "        # FORWARD\n",
    "        logits, probs = model(features)\n",
    "\n",
    "        # BACKWARD\n",
    "        loss = loss_fn(logits, target)\n",
    "        mini_batch_loss_ls.append(loss.item())\n",
    "        optimizer.zero_grad()\n",
    "        loss.backward()\n",
    "        \n",
    "        # UPDATE WEIGHTS\n",
    "        optimizer.step()\n",
    "        \n",
    "        # BATCH LOGGING\n",
    "        if batch_idx % 50 == 0:\n",
    "            print('Epoch: %03d/%03d | Batch %03d/%03d | Cost: %.4f' \n",
    "                   %(epoch + 1, num_epochs, batch_idx, batch_size, loss))\n",
    "\n",
    "    # EPOCH LOGGING\n",
    "    elapsed = (time.time() - start_time)/60\n",
    "    print(f'Time elapsed: {elapsed:.2f} min')\n",
    "\n",
    "    train_acc = compute_batch_accuracy(model, train_loader)\n",
    "    valid_acc = compute_batch_accuracy(model, valid_loader)\n",
    "    print('Epoch: %03d/%03d Train: %.2f%% | Validation: %.2f%%' % (\n",
    "        epoch + 1, num_epochs, train_acc, valid_acc\n",
    "    ))\n",
    "    train_acc_ls.append(train_acc)\n",
    "    valid_acc_ls.append(valid_acc)\n",
    "\n",
    "    # ADJUST LEARNING RATE\n",
    "    scheduler.step(valid_acc_ls[-1])\n",
    "\n",
    "print(\"-------------------------------\")\n",
    "\n",
    "# FINAL LOGGING\n",
    "elapsed = (time.time() - start_time)/60\n",
    "print(f'Total Training Time: {elapsed:.2f} min')\n",
    "\n",
    "test_acc = compute_batch_accuracy(model, test_loader)\n",
    "print(f'Test accuracy {test_acc :.2f}%')"
   ]
  },
  {
   "cell_type": "code",
   "execution_count": 25,
   "metadata": {},
   "outputs": [
    {
     "data": {
      "text/plain": [
       "[<matplotlib.lines.Line2D at 0x7fb048cbc310>]"
      ]
     },
     "execution_count": 25,
     "metadata": {},
     "output_type": "execute_result"
    },
    {
     "data": {
      "image/png": "[encoded data removed]",
      "text/plain": [
       "<Figure size 432x288 with 1 Axes>"
      ]
     },
     "metadata": {
      "needs_background": "light"
     },
     "output_type": "display_data"
    }
   ],
   "source": [
    "plt.plot(mini_batch_loss_ls)"
   ]
  },
  {
   "cell_type": "code",
   "execution_count": 18,
   "metadata": {},
   "outputs": [
    {
     "data": {
      "image/png": "[encoded data removed]",
      "text/plain": [
       "<Figure size 432x288 with 1 Axes>"
      ]
     },
     "metadata": {
      "needs_background": "light"
     },
     "output_type": "display_data"
    }
   ],
   "source": [
    "plt.plot(train_acc_ls, label=\"train\")\n",
    "plt.plot(valid_acc_ls, label=\"valid\")\n",
    "plt.legend()\n",
    "plt.show()"
   ]
  }
 ],
 "metadata": {
  "interpreter": {
   "hash": "126a21cd5689fd8d9034299aed6b6694e84badb31a82d41620debb45eeeb4436"
  },
  "kernelspec": {
   "display_name": "Python 3.8.0 64-bit ('deepl': conda)",
   "language": "python",
   "name": "python3"
  },
  "language_info": {
   "codemirror_mode": {
    "name": "ipython",
    "version": 3
   },
   "file_extension": ".py",
   "mimetype": "text/x-python",
   "name": "python",
   "nbconvert_exporter": "python",
   "pygments_lexer": "ipython3",
   "version": "3.8.0"
  },
  "orig_nbformat": 4
 },
 "nbformat": 4,
 "nbformat_minor": 2
}
